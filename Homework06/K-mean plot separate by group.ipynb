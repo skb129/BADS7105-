{
 "cells": [
  {
   "cell_type": "code",
   "execution_count": 2,
   "metadata": {},
   "outputs": [],
   "source": [
    "import pandas as pd\n",
    "import numpy as np\n",
    "my_data = pd.read_csv('centriod result.csv')\n",
    "df = pd.DataFrame(my_data)\n",
    "df['CENTROID_ID'] = df['CENTROID_ID'].replace(1, 'r')\n",
    "df['CENTROID_ID'] = df['CENTROID_ID'].replace(2, 'g')\n",
    "df['CENTROID_ID'] = df['CENTROID_ID'].replace(3, 'b')\n",
    "df['CENTROID_ID'] = df['CENTROID_ID'].replace(4, 'c')\n",
    "df['CENTROID_ID'] = df['CENTROID_ID'].replace(5, 'm')\n",
    "df['CENTROID_ID'] = df['CENTROID_ID'].replace(6, 'y')\n",
    "df['CENTROID_ID'] = df['CENTROID_ID'].replace(7, 'k')\n",
    "new_df1 = pd.DataFrame({\n",
    "        'cust_code' : df['cust_code'],\n",
    "        'total_spend' : df['total_spend'],\n",
    "        'total_visit' : df['total_visit'],\n",
    "        'Colors' : df['CENTROID_ID']\n",
    "    })"
   ]
  },
  {
   "cell_type": "code",
   "execution_count": 4,
   "metadata": {},
   "outputs": [],
   "source": [
    "import matplotlib.pyplot as plt\n",
    "%matplotlib qt\n",
    "plt.title( \"total_visit VS total_spend\",fontsize=20)\n",
    "plt.xlabel( \"total_visit\",fontsize=17)\n",
    "plt.ylabel( 'total_spend',fontsize=17 )\n",
    "plt.scatter(new_df1['total_visit'], new_df1['total_spend'], color=new_df1['Colors'], alpha=0.5, edgecolor='k')\n",
    "plt.show()"
   ]
  },
  {
   "cell_type": "code",
   "execution_count": null,
   "metadata": {},
   "outputs": [],
   "source": []
  }
 ],
 "metadata": {
  "kernelspec": {
   "display_name": "Python 3",
   "language": "python",
   "name": "python3"
  },
  "language_info": {
   "codemirror_mode": {
    "name": "ipython",
    "version": 3
   },
   "file_extension": ".py",
   "mimetype": "text/x-python",
   "name": "python",
   "nbconvert_exporter": "python",
   "pygments_lexer": "ipython3",
   "version": "3.7.4"
  }
 },
 "nbformat": 4,
 "nbformat_minor": 2
}
